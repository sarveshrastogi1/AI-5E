{
  "nbformat": 4,
  "nbformat_minor": 0,
  "metadata": {
    "colab": {
      "provenance": [],
      "authorship_tag": "ABX9TyPyUwOJk7eEsSE7KgwBqtDh",
      "include_colab_link": true
    },
    "kernelspec": {
      "name": "python3",
      "display_name": "Python 3"
    },
    "language_info": {
      "name": "python"
    }
  },
  "cells": [
    {
      "cell_type": "markdown",
      "metadata": {
        "id": "view-in-github",
        "colab_type": "text"
      },
      "source": [
        "<a href=\"https://colab.research.google.com/github/sarveshrastogi1/AI-5E/blob/main/Vaccum_cleaner_2_quadrant.ipynb\" target=\"_parent\"><img src=\"https://colab.research.google.com/assets/colab-badge.svg\" alt=\"Open In Colab\"/></a>"
      ]
    },
    {
      "cell_type": "code",
      "execution_count": 4,
      "metadata": {
        "colab": {
          "base_uri": "https://localhost:8080/"
        },
        "id": "RZMachTjdy7X",
        "outputId": "60f9db0b-f406-425a-88a9-34a2aa167461"
      },
      "outputs": [
        {
          "output_type": "stream",
          "name": "stdout",
          "text": [
            "Enter Location of Vacuum (A/B): A\n",
            "Enter status of A (0/1): 0\n",
            "Enter status of B (0/1): 1\n",
            "Goal State Required: {'A': 0, 'B': 0}\n",
            "Vacuum is placed in Location A\n",
            "Moving right to the location B.\n",
            "Location B is Dirty.\n",
            "Cost for CLEANING B: 1\n",
            "Location B has been Cleaned.\n",
            "GOAL STATE: {'A': 0, 'B': 0}\n",
            "Performance Measurement: 1\n"
          ]
        }
      ],
      "source": [
        "\n",
        "def printInformation(location):\n",
        "    print(f\"Location {location} is Dirty.\")\n",
        "    print(f\"Cost for CLEANING {location}: 1\")\n",
        "    print(f\"Location {location} has been Cleaned.\")\n",
        "\n",
        "\n",
        "def vacuumCleaner(goalState, currentState, location):\n",
        "    print(\"Goal State Required:\", goalState)\n",
        "    print(f\"Vacuum is placed in Location {location}\")\n",
        "\n",
        "    totalCost = 0\n",
        "\n",
        "    while currentState != goalState:\n",
        "        if location == \"A\":\n",
        "            if currentState[\"A\"] == 1:\n",
        "                currentState[\"A\"] = 0\n",
        "                totalCost += 1\n",
        "                printInformation(\"A\")\n",
        "            if currentState[\"B\"] == 1:\n",
        "                print(\"Moving right to the location B.\")\n",
        "                location = \"B\"\n",
        "\n",
        "        elif location == \"B\":\n",
        "            if currentState[\"B\"] == 1:\n",
        "                currentState[\"B\"] = 0\n",
        "                totalCost += 1\n",
        "                printInformation(\"B\")\n",
        "            if currentState[\"A\"] == 1:\n",
        "                print(\"Moving left to the location A.\")\n",
        "                location = \"A\"\n",
        "\n",
        "    print(\"GOAL STATE:\", currentState)\n",
        "    return totalCost\n",
        "\n",
        "\n",
        "goalState = {\"A\": 0, \"B\": 0}\n",
        "currentState = {\"A\": -1, \"B\": -1}\n",
        "\n",
        "location = input(\"Enter Location of Vacuum (A/B): \")\n",
        "currentState[\"A\"] = int(input(\"Enter status of A (0/1): \"))\n",
        "currentState[\"B\"] = int(input(\"Enter status of B (0/1): \"))\n",
        "\n",
        "totalCost = vacuumCleaner(goalState, currentState, location)\n",
        "print(\"Performance Measurement:\", totalCost)"
      ]
    },
    {
      "cell_type": "code",
      "source": [
        "\n",
        "def printInformation(location):\n",
        "    print(f\"Location {location} is Dirty.\")\n",
        "    print(f\"Cost for CLEANING {location}: 1\")\n",
        "    print(f\"Location {location} has been Cleaned.\")\n",
        "\n",
        "\n",
        "def vacuumCleaner(goalState, currentState, location):\n",
        "    print(\"Goal State Required:\", goalState)\n",
        "    print(f\"Vacuum is placed in Location {location}\")\n",
        "\n",
        "    totalCost = 0\n",
        "\n",
        "    while currentState != goalState:\n",
        "        if location == \"A\":\n",
        "            if currentState[\"A\"] == 1:\n",
        "                currentState[\"A\"] = 0\n",
        "                totalCost += 1\n",
        "                printInformation(\"A\")\n",
        "            if currentState[\"B\"] == 1:\n",
        "                print(\"Moving right to the location B.\")\n",
        "                location = \"B\"\n",
        "\n",
        "        elif location == \"B\":\n",
        "            if currentState[\"B\"] == 1:\n",
        "                currentState[\"B\"] = 0\n",
        "                totalCost += 1\n",
        "                printInformation(\"B\")\n",
        "            if currentState[\"A\"] == 1:\n",
        "                print(\"Moving left to the location A.\")\n",
        "                location = \"A\"\n",
        "\n",
        "    print(\"GOAL STATE:\", currentState)\n",
        "    return totalCost\n",
        "\n",
        "\n",
        "goalState = {\"A\": 0, \"B\": 0}\n",
        "currentState = {\"A\": -1, \"B\": -1}\n",
        "\n",
        "location = input(\"Enter Location of Vacuum (A/B): \")\n",
        "currentState[\"A\"] = int(input(\"Enter status of A (0/1): \"))\n",
        "currentState[\"B\"] = int(input(\"Enter status of B (0/1): \"))\n",
        "\n",
        "totalCost = vacuumCleaner(goalState, currentState, location)\n",
        "print(\"Performance Measurement:\", totalCost)"
      ],
      "metadata": {
        "colab": {
          "base_uri": "https://localhost:8080/"
        },
        "id": "Ba9g3Sgnkg-Q",
        "outputId": "4478c3df-be66-4269-c017-55a8940c810e"
      },
      "execution_count": 5,
      "outputs": [
        {
          "output_type": "stream",
          "name": "stdout",
          "text": [
            "Enter Location of Vacuum (A/B): A\n",
            "Enter status of A (0/1): 1\n",
            "Enter status of B (0/1): 0\n",
            "Goal State Required: {'A': 0, 'B': 0}\n",
            "Vacuum is placed in Location A\n",
            "Location A is Dirty.\n",
            "Cost for CLEANING A: 1\n",
            "Location A has been Cleaned.\n",
            "GOAL STATE: {'A': 0, 'B': 0}\n",
            "Performance Measurement: 1\n"
          ]
        }
      ]
    },
    {
      "cell_type": "code",
      "source": [
        "\n",
        "def printInformation(location):\n",
        "    print(f\"Location {location} is Dirty.\")\n",
        "    print(f\"Cost for CLEANING {location}: 1\")\n",
        "    print(f\"Location {location} has been Cleaned.\")\n",
        "\n",
        "\n",
        "def vacuumCleaner(goalState, currentState, location):\n",
        "    print(\"Goal State Required:\", goalState)\n",
        "    print(f\"Vacuum is placed in Location {location}\")\n",
        "\n",
        "    totalCost = 0\n",
        "\n",
        "    while currentState != goalState:\n",
        "        if location == \"A\":\n",
        "            if currentState[\"A\"] == 1:\n",
        "                currentState[\"A\"] = 0\n",
        "                totalCost += 1\n",
        "                printInformation(\"A\")\n",
        "            if currentState[\"B\"] == 1:\n",
        "                print(\"Moving right to the location B.\")\n",
        "                location = \"B\"\n",
        "\n",
        "        elif location == \"B\":\n",
        "            if currentState[\"B\"] == 1:\n",
        "                currentState[\"B\"] = 0\n",
        "                totalCost += 1\n",
        "                printInformation(\"B\")\n",
        "            if currentState[\"A\"] == 1:\n",
        "                print(\"Moving left to the location A.\")\n",
        "                location = \"A\"\n",
        "\n",
        "    print(\"GOAL STATE:\", currentState)\n",
        "    return totalCost\n",
        "\n",
        "\n",
        "goalState = {\"A\": 0, \"B\": 0}\n",
        "currentState = {\"A\": -1, \"B\": -1}\n",
        "\n",
        "location = input(\"Enter Location of Vacuum (A/B): \")\n",
        "currentState[\"A\"] = int(input(\"Enter status of A (0/1): \"))\n",
        "currentState[\"B\"] = int(input(\"Enter status of B (0/1): \"))\n",
        "\n",
        "totalCost = vacuumCleaner(goalState, currentState, location)\n",
        "print(\"Performance Measurement:\", totalCost)"
      ],
      "metadata": {
        "colab": {
          "base_uri": "https://localhost:8080/"
        },
        "id": "jLOUCAwQkmE8",
        "outputId": "0635c267-c889-447c-c7a1-ebd3b1f315fd"
      },
      "execution_count": 6,
      "outputs": [
        {
          "output_type": "stream",
          "name": "stdout",
          "text": [
            "Enter Location of Vacuum (A/B): A\n",
            "Enter status of A (0/1): 0\n",
            "Enter status of B (0/1): 0\n",
            "Goal State Required: {'A': 0, 'B': 0}\n",
            "Vacuum is placed in Location A\n",
            "GOAL STATE: {'A': 0, 'B': 0}\n",
            "Performance Measurement: 0\n"
          ]
        }
      ]
    },
    {
      "cell_type": "code",
      "source": [
        "\n",
        "def printInformation(location):\n",
        "    print(f\"Location {location} is Dirty.\")\n",
        "    print(f\"Cost for CLEANING {location}: 1\")\n",
        "    print(f\"Location {location} has been Cleaned.\")\n",
        "\n",
        "\n",
        "def vacuumCleaner(goalState, currentState, location):\n",
        "    print(\"Goal State Required:\", goalState)\n",
        "    print(f\"Vacuum is placed in Location {location}\")\n",
        "\n",
        "    totalCost = 0\n",
        "\n",
        "    while currentState != goalState:\n",
        "        if location == \"A\":\n",
        "            if currentState[\"A\"] == 1:\n",
        "                currentState[\"A\"] = 0\n",
        "                totalCost += 1\n",
        "                printInformation(\"A\")\n",
        "            if currentState[\"B\"] == 1:\n",
        "                print(\"Moving right to the location B.\")\n",
        "                location = \"B\"\n",
        "\n",
        "        elif location == \"B\":\n",
        "            if currentState[\"B\"] == 1:\n",
        "                currentState[\"B\"] = 0\n",
        "                totalCost += 1\n",
        "                printInformation(\"B\")\n",
        "            if currentState[\"A\"] == 1:\n",
        "                print(\"Moving left to the location A.\")\n",
        "                location = \"A\"\n",
        "\n",
        "    print(\"GOAL STATE:\", currentState)\n",
        "    return totalCost\n",
        "\n",
        "\n",
        "goalState = {\"A\": 0, \"B\": 0}\n",
        "currentState = {\"A\": -1, \"B\": -1}\n",
        "\n",
        "location = input(\"Enter Location of Vacuum (A/B): \")\n",
        "currentState[\"A\"] = int(input(\"Enter status of A (0/1): \"))\n",
        "currentState[\"B\"] = int(input(\"Enter status of B (0/1): \"))\n",
        "\n",
        "totalCost = vacuumCleaner(goalState, currentState, location)\n",
        "print(\"Performance Measurement:\", totalCost)"
      ],
      "metadata": {
        "colab": {
          "base_uri": "https://localhost:8080/"
        },
        "id": "QFvYHiFQkpTr",
        "outputId": "256b3066-bfe1-4307-e799-59b542a88a70"
      },
      "execution_count": 9,
      "outputs": [
        {
          "output_type": "stream",
          "name": "stdout",
          "text": [
            "Enter Location of Vacuum (A/B): A\n",
            "Enter status of A (0/1): 1\n",
            "Enter status of B (0/1): 1\n",
            "Goal State Required: {'A': 0, 'B': 0}\n",
            "Vacuum is placed in Location A\n",
            "Location A is Dirty.\n",
            "Cost for CLEANING A: 1\n",
            "Location A has been Cleaned.\n",
            "Moving right to the location B.\n",
            "Location B is Dirty.\n",
            "Cost for CLEANING B: 1\n",
            "Location B has been Cleaned.\n",
            "GOAL STATE: {'A': 0, 'B': 0}\n",
            "Performance Measurement: 2\n"
          ]
        }
      ]
    }
  ]
}